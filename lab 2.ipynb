{
 "cells": [
  {
   "cell_type": "code",
   "execution_count": null,
   "metadata": {},
   "outputs": [],
   "source": [
    "1. Check whether a number is even or odd"
   ]
  },
  {
   "cell_type": "code",
   "execution_count": 12,
   "metadata": {
    "scrolled": true
   },
   "outputs": [
    {
     "name": "stdout",
     "output_type": "stream",
     "text": [
      "Enter the number20\n",
      "20 is even\n"
     ]
    }
   ],
   "source": [
    " a = int(input(\"Enter the number\")) \n",
    "\n",
    "if a % 2 == 0:\n",
    "    print(a , \"is even\")\n",
    "else:\n",
    "    print(a, \"is odd\")"
   ]
  },
  {
   "cell_type": "code",
   "execution_count": null,
   "metadata": {},
   "outputs": [],
   "source": [
    " Check whether an entered year is leap year or not."
   ]
  },
  {
   "cell_type": "code",
   "execution_count": 16,
   "metadata": {},
   "outputs": [
    {
     "name": "stdout",
     "output_type": "stream",
     "text": [
      "Enter the yaer: 2000\n",
      "It is a leap year\n"
     ]
    }
   ],
   "source": [
    "year = int(input(\"Enter the yaer: \"))\n",
    "\n",
    "\n",
    "if year % 4 == 0:\n",
    "    if year % 100 == 0:\n",
    "        if year % 400 == 0:\n",
    "            print(\"It is a leap year\")\n",
    "        else: \n",
    "            print(\"It is not a leap year\")\n",
    "    else: \n",
    "            print(\"It is not a leap year\")\n",
    "else: \n",
    "            print(\"It is not a leap year\")    \n"
   ]
  },
  {
   "cell_type": "code",
   "execution_count": null,
   "metadata": {},
   "outputs": [],
   "source": [
    "3. Write a program to check whether a character is vowel or consonants."
   ]
  },
  {
   "cell_type": "code",
   "execution_count": 17,
   "metadata": {},
   "outputs": [
    {
     "name": "stdout",
     "output_type": "stream",
     "text": [
      "Enter a character: A\n",
      "A is a Vowel\n"
     ]
    }
   ],
   "source": [
    "ch = input(\"Enter a character: \")\n",
    "\n",
    "if(ch=='A',\"E\",'I','O','U') :\n",
    "    print(ch, \"is a Vowel\")\n",
    "else:\n",
    "    print(ch, \"is a Consonant\")"
   ]
  },
  {
   "cell_type": "code",
   "execution_count": null,
   "metadata": {},
   "outputs": [],
   "source": [
    "4.Write a program to find the smallest of two numbers."
   ]
  },
  {
   "cell_type": "code",
   "execution_count": 18,
   "metadata": {},
   "outputs": [
    {
     "name": "stdout",
     "output_type": "stream",
     "text": [
      "Enter the number: 2\n",
      "Enter the number:9\n",
      "b is greater\n"
     ]
    }
   ],
   "source": [
    "a = int(input(\"Enter the number: \")) \n",
    "b = int(input(\"Enter the number: \"))\n",
    "if a > b:\n",
    "    print(\"a is greater \")\n",
    "else:\n",
    "    print(\"b is greater\")"
   ]
  },
  {
   "cell_type": "code",
   "execution_count": null,
   "metadata": {},
   "outputs": [],
   "source": [
    "Find the Factorial of a Number"
   ]
  },
  {
   "cell_type": "code",
   "execution_count": 19,
   "metadata": {},
   "outputs": [
    {
     "name": "stdout",
     "output_type": "stream",
     "text": [
      "Enter a number: 20\n",
      "The factorial of 20 is 2432902008176640000\n"
     ]
    }
   ],
   "source": [
    "num = 7\n",
    "\n",
    "num = int(input(\"Enter a number: \"))\n",
    "\n",
    "factorial = 1\n",
    "\n",
    "\n",
    "if num == 0:\n",
    "   print(\"The factorial of 0 is 1\")\n",
    "else:\n",
    "   for i in range(1,num + 1):\n",
    "       factorial = factorial*i\n",
    "   print(\"The factorial of\",num,\"is\",factorial)"
   ]
  },
  {
   "cell_type": "code",
   "execution_count": null,
   "metadata": {},
   "outputs": [],
   "source": [
    "6. Write a program to print this patterns\n",
    "         *\n",
    "     *     *\n",
    "  *    *     *\n",
    "         *   *     *     *  "
   ]
  },
  {
   "cell_type": "code",
   "execution_count": 23,
   "metadata": {},
   "outputs": [
    {
     "name": "stdout",
     "output_type": "stream",
     "text": [
      "     *     \n",
      "   *   *   \n",
      "  *  *  *  \n",
      " *  *  *  *\n"
     ]
    }
   ],
   "source": [
    "print(\"     *     \")\n",
    "print(\"   *   *   \")\n",
    "print(\"  *  *  *  \")\n",
    "print(\" *  *  *  *\")"
   ]
  },
  {
   "cell_type": "code",
   "execution_count": 25,
   "metadata": {},
   "outputs": [
    {
     "name": "stdout",
     "output_type": "stream",
     "text": [
      "Enter the lower no1\n",
      "Enter the higher no20\n",
      "Prime numbers between 1 and 20 are:\n",
      "2\n",
      "3\n",
      "5\n",
      "7\n",
      "11\n",
      "13\n",
      "17\n",
      "19\n"
     ]
    }
   ],
   "source": [
    "num1 = int(input(\"Enter the lower no\")) \n",
    "num2 = int(input(\"Enter the higher no\")) \n",
    "\n",
    "print(\"Prime numbers between\", num1, \"and\", num2, \"are:\")\n",
    "\n",
    "for num in range(num1, num2 + 1):\n",
    "  \n",
    "   if num > 1:\n",
    "       for i in range(2, num):\n",
    "           if (num % i) == 0:\n",
    "               break\n",
    "       else:\n",
    "           print(num)"
   ]
  },
  {
   "cell_type": "code",
   "execution_count": null,
   "metadata": {},
   "outputs": [],
   "source": [
    "7.Write a program to print this series\n",
    "             1 1 2 3 5 8 13 "
   ]
  },
  {
   "cell_type": "code",
   "execution_count": 32,
   "metadata": {},
   "outputs": [
    {
     "name": "stdout",
     "output_type": "stream",
     "text": [
      "1\n",
      "1\n",
      "2\n",
      "3\n",
      "5\n",
      "8\n",
      "13\n"
     ]
    }
   ],
   "source": [
    "x=0\n",
    "y=1\n",
    "\n",
    "while y<20:\n",
    "    print(y)\n",
    "    x,y = y,x+y"
   ]
  },
  {
   "cell_type": "code",
   "execution_count": null,
   "metadata": {},
   "outputs": [],
   "source": [
    "8.Check whether a number is prime or not"
   ]
  },
  {
   "cell_type": "code",
   "execution_count": 36,
   "metadata": {},
   "outputs": [
    {
     "name": "stdout",
     "output_type": "stream",
     "text": [
      "Enter the number 2\n",
      "2 is a prime number\n"
     ]
    }
   ],
   "source": [
    "num = int(input(\"Enter the number \"))\n",
    " \n",
    "\n",
    "if num > 1:\n",
    " \n",
    "    \n",
    "    for i in range(2, int(num/2)+1):\n",
    " \n",
    "        if (num % i) == 0:\n",
    "            print(num, \"is not a prime number\")\n",
    "            break\n",
    "    else:\n",
    "        print(num, \"is a prime number\")\n",
    " \n",
    "else:\n",
    "    print(num, \"is not a prime number\")"
   ]
  },
  {
   "cell_type": "code",
   "execution_count": null,
   "metadata": {},
   "outputs": [],
   "source": [
    "Make a Simple Calculator."
   ]
  },
  {
   "cell_type": "code",
   "execution_count": 1,
   "metadata": {},
   "outputs": [
    {
     "name": "stdout",
     "output_type": "stream",
     "text": [
      "Enter first number: 20\n",
      "Enter second number: 30\n",
      "Enter the opertor(A,S,M,D): A\n",
      "20.0 + 30.0 = 50.0\n"
     ]
    }
   ],
   "source": [
    "num1 = float(input(\"Enter first number: \"))\n",
    "num2 = float(input(\"Enter second number: \"))\n",
    "operator = input(str(\"Enter the opertor(A,S,M,D): \"))\n",
    "        \n",
    "if operator == 'A':\n",
    "    print(num1, \"+\", num2, \"=\", (num1 + num2))\n",
    "\n",
    "elif operator == 'S':\n",
    "    print(num1, \"-\", num2, \"=\", (num1 - num2))\n",
    "\n",
    "elif operator == 'M':\n",
    "    print(num1, \"*\", num2, \"=\", (num1 * num2))\n",
    "\n",
    "elif operator == 'D':\n",
    "    print(num1, \"/\", num2, \"=\", (num1 / num2))\n",
    "  \n",
    "else:\n",
    "    print(\"Invalid Input\")"
   ]
  }
 ],
 "metadata": {
  "kernelspec": {
   "display_name": "Python 3",
   "language": "python",
   "name": "python3"
  },
  "language_info": {
   "codemirror_mode": {
    "name": "ipython",
    "version": 3
   },
   "file_extension": ".py",
   "mimetype": "text/x-python",
   "name": "python",
   "nbconvert_exporter": "python",
   "pygments_lexer": "ipython3",
   "version": "3.8.5"
  }
 },
 "nbformat": 4,
 "nbformat_minor": 4
}
